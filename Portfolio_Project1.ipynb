{
 "cells": [
  {
   "cell_type": "markdown",
   "metadata": {},
   "source": [
    "## Importing the required packages\n"
   ]
  },
  {
   "cell_type": "code",
   "execution_count": 1,
   "metadata": {},
   "outputs": [],
   "source": [
    "import pandas as pd\n",
    "import numpy as np\n",
    "import requests\n",
    "from bs4 import BeautifulSoup\n"
   ]
  },
  {
   "cell_type": "markdown",
   "metadata": {},
   "source": [
    "### Creating the URL and using BeautifulSoup\n"
   ]
  },
  {
   "cell_type": "code",
   "execution_count": 2,
   "metadata": {},
   "outputs": [],
   "source": [
    "URL = 'https://www.imdb.com/chart/boxoffice/?ref_=nv_ch_cht'"
   ]
  },
  {
   "cell_type": "markdown",
   "metadata": {},
   "source": [
    "### Getting the request from the IMDB website"
   ]
  },
  {
   "cell_type": "code",
   "execution_count": 3,
   "metadata": {},
   "outputs": [],
   "source": [
    "page = requests.get(URL)"
   ]
  },
  {
   "cell_type": "code",
   "execution_count": 4,
   "metadata": {},
   "outputs": [],
   "source": [
    "soup = BeautifulSoup(page.content,'html.parser')\n",
    "results = soup.find(id = 'boxoffice')"
   ]
  },
  {
   "cell_type": "markdown",
   "metadata": {},
   "source": [
    "### Finding the  required tag to begin scrapping from the web-page"
   ]
  },
  {
   "cell_type": "code",
   "execution_count": 5,
   "metadata": {},
   "outputs": [],
   "source": [
    "movie_table = results.find_all('tr')"
   ]
  },
  {
   "cell_type": "markdown",
   "metadata": {},
   "source": [
    "### Creating an empty dataframe on which to append the results"
   ]
  },
  {
   "cell_type": "code",
   "execution_count": 6,
   "metadata": {},
   "outputs": [],
   "source": [
    "Box_office = pd.DataFrame()"
   ]
  },
  {
   "cell_type": "code",
   "execution_count": 7,
   "metadata": {},
   "outputs": [],
   "source": [
    "movie_title = []\n",
    "weekend_dollar = []\n",
    "gross_dollar =[]\n",
    "weeks_in_boxoffice =[]\n",
    "stars =[]"
   ]
  },
  {
   "cell_type": "markdown",
   "metadata": {},
   "source": [
    "### Looping through the movie_table to find the required information"
   ]
  },
  {
   "cell_type": "code",
   "execution_count": 8,
   "metadata": {},
   "outputs": [],
   "source": [
    "for mo in movie_table:\n",
    "    movie_name = mo.find('td',class_ = 'titleColumn')\n",
    "    weekend_amount = mo.find('td',class_ = 'ratingColumn')\n",
    "    weeks_in = mo.find('td',class_ = 'weeksColumn')\n",
    "    try:\n",
    "        starring = movie_name.a['title']\n",
    "        movie_title.append(movie_name.text.strip())\n",
    "        weekend_dollar.append(weekend_amount.text.strip())\n",
    "        gross_dollar.append(mo.span.text)\n",
    "        weeks_in_boxoffice.append(int(weeks_in.text))\n",
    "        stars.append(starring)\n",
    "    except:\n",
    "        continue"
   ]
  },
  {
   "cell_type": "markdown",
   "metadata": {},
   "source": [
    "### Inserting the scrapped information into the empty dataframe"
   ]
  },
  {
   "cell_type": "code",
   "execution_count": 9,
   "metadata": {},
   "outputs": [],
   "source": [
    "Box_office['Title'] = movie_title\n",
    "Box_office['Weekend'] = weekend_dollar\n",
    "Box_office['Gross']= gross_dollar\n",
    "Box_office['Weeks'] = weeks_in_boxoffice\n",
    "Box_office['Stars'] = stars"
   ]
  },
  {
   "cell_type": "markdown",
   "metadata": {},
   "source": [
    "### Display the Scrapped Box_office movies"
   ]
  },
  {
   "cell_type": "code",
   "execution_count": 10,
   "metadata": {},
   "outputs": [
    {
     "name": "stdout",
     "output_type": "stream",
     "text": [
      "                                  Title Weekend    Gross  Weeks  \\\n",
      "0                     The Suicide Squad  $26.2M   $26.2M      1   \n",
      "1                         Jungle Cruise  $15.8M   $65.4M      2   \n",
      "2                                   Old   $4.1M   $38.5M      3   \n",
      "3                           Black Widow   $3.9M  $174.3M      5   \n",
      "4                            Stillwater   $2.8M   $10.0M      2   \n",
      "5                      The Green Knight   $2.6M   $12.2M      2   \n",
      "6               Space Jam: A New Legacy   $2.4M   $65.6M      4   \n",
      "7          Snake Eyes: G.I. Joe Origins   $1.7M   $26.1M      3   \n",
      "8  Escape Room: Tournament of Champions   $1.3M   $23.1M      4   \n",
      "9                                    F9   $1.2M  $171.0M      7   \n",
      "\n",
      "                                               Stars  \n",
      "0       James Gunn (dir.), Margot Robbie, Idris Elba  \n",
      "1  Jaume Collet-Serra (dir.), Dwayne Johnson, Emi...  \n",
      "2  M. Night Shyamalan (dir.), Gael García Bernal,...  \n",
      "3  Cate Shortland (dir.), Scarlett Johansson, Flo...  \n",
      "4    Tom McCarthy (dir.), Matt Damon, Camille Cottin  \n",
      "5    David Lowery (dir.), Dev Patel, Alicia Vikander  \n",
      "6   Malcolm D. Lee (dir.), LeBron James, Don Cheadle  \n",
      "7  Robert Schwentke (dir.), Henry Golding, Andrew...  \n",
      "8  Adam Robitel (dir.), Taylor Russell, Logan Miller  \n",
      "9  Justin Lin (dir.), Vin Diesel, Michelle Rodriguez  \n"
     ]
    }
   ],
   "source": [
    "print(Box_office)"
   ]
  },
  {
   "cell_type": "code",
   "execution_count": null,
   "metadata": {},
   "outputs": [],
   "source": []
  }
 ],
 "metadata": {
  "kernelspec": {
   "display_name": "Python 3",
   "language": "python",
   "name": "python3"
  },
  "language_info": {
   "codemirror_mode": {
    "name": "ipython",
    "version": 3
   },
   "file_extension": ".py",
   "mimetype": "text/x-python",
   "name": "python",
   "nbconvert_exporter": "python",
   "pygments_lexer": "ipython3",
   "version": "3.8.3"
  }
 },
 "nbformat": 4,
 "nbformat_minor": 4
}
