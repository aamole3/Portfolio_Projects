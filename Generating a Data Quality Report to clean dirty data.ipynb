{
 "cells": [
  {
   "cell_type": "markdown",
   "metadata": {},
   "source": [
    "### Importing the required Libraries "
   ]
  },
  {
   "cell_type": "code",
   "execution_count": null,
   "metadata": {},
   "outputs": [],
   "source": [
    "import pandas as pd\n",
    "import numpy as np\n",
    "import re"
   ]
  },
  {
   "cell_type": "markdown",
   "metadata": {},
   "source": [
    "### Requesting for the name of the file to be processed "
   ]
  },
  {
   "cell_type": "code",
   "execution_count": null,
   "metadata": {},
   "outputs": [],
   "source": [
    "dataset = input('Enter the name of your dataset with the extension: ')"
   ]
  },
  {
   "cell_type": "markdown",
   "metadata": {},
   "source": [
    "### Using Regular expression to access the file and determine what kind of file it is"
   ]
  },
  {
   "cell_type": "code",
   "execution_count": null,
   "metadata": {},
   "outputs": [],
   "source": [
    "result = re.findall(r'[a-z]+',dataset)\n",
    "\n",
    "if result[1] == 'csv':\n",
    "    frame = pd.read_csv(dataset)\n",
    "    print('The dataset was succesfully imported \\n')\n",
    "    first_5rows = frame.head()\n",
    "    last_5rows = frame.tail()\n",
    "    print('The first five rows are :' ,first_5rows)\n",
    "    print('The last five rows are :',last_5rows)\n",
    "elif result[1] == 'xlsx':\n",
    "    frame = pd.read_excel(dataset)\n",
    "    print('The dataset was succesfully imported \\n')\n",
    "    first_5rows = frame.head()\n",
    "    last_5rows = frame.tail()\n",
    "    print('The first five rows are :' ,first_5rows)\n",
    "    print('The last five rows are :',last_5rows)"
   ]
  },
  {
   "cell_type": "markdown",
   "metadata": {},
   "source": [
    "### Splitting the data into Categorical and Continuous datasets"
   ]
  },
  {
   "cell_type": "code",
   "execution_count": null,
   "metadata": {},
   "outputs": [],
   "source": [
    "catdf = frame.select_dtypes(include = ['object'])\n",
    "catdrop = list(catdf.columns)\n",
    "condf = frame.drop(catdrop,axis = 1)"
   ]
  },
  {
   "cell_type": "markdown",
   "metadata": {},
   "source": [
    "### Processing the Continous dataset"
   ]
  },
  {
   "cell_type": "code",
   "execution_count": null,
   "metadata": {},
   "outputs": [],
   "source": [
    "if condf.empty == True:\n",
    "    print('The dataset does not contain any continuous features')\n",
    "else:\n",
    "    confeat = list(condf.columns)\n",
    "    conHead =  ['Count', 'Miss %', 'Card.', 'Min', '1st Qrt.', 'Mean', 'Median', '3rd Qrt', 'Max', 'Standard Deviation'] #Creating the features to be reported\n",
    "    \n",
    "    conOutDf = pd.DataFrame(index = confeat, columns = conHead) #Created the data Quality report dataframe\n",
    "    conOutDf.index.name = 'FeatureName'\n",
    "    \n",
    "    #Populating the count data\n",
    "    counting = condf.count()\n",
    "    conOutDf[conHead[0]] = counting \n",
    "    \n",
    "    #Missing Percentage\n",
    "    percent = ['']* len(confeat)\n",
    "    for j in condf:\n",
    "        if condf[j].isnull().values.any()==False:\n",
    "            percent [confeat.index(j)]=0.00\n",
    "        else:\n",
    "            nu = condf[j].isnull().sum()\n",
    "            co = condf[j].count()\n",
    "            per = nu/co *100\n",
    "            percent[confeat.index(j)] = per\n",
    "    conOutDf[conHead[1]] = percent  #This adds the percentage missing to the report \n",
    "    \n",
    "    #Cardinality\n",
    "    conOutDf[conHead[2]] = condf.nunique()  \n",
    "    #Minimum \n",
    "    conOutDf[conHead[3]] = condf.min()\n",
    "    #1st Quartile\n",
    "    conOutDf[conHead[4]] = condf.quantile(0.25)\n",
    "    #Mean\n",
    "    conOutDf[conHead[5]] = round(condf.mean(),2)\n",
    "    #Median\n",
    "    conOutDf[conHead[6]] = condf.median()\n",
    "    #3rd Quartile\n",
    "    conOutDf[conHead[7]] = condf.quantile(0.75)\n",
    "    #Max\n",
    "    conOutDf[conHead[8]] = condf.max()\n",
    "    #Standard Deviation\n",
    "    conOutDf[conHead[9]] = round(condf.std(),2)\n",
    "\n",
    "\n",
    "\n",
    "''' Collecting the outliers for each continuous feature'''\n",
    "outliers =[]\n",
    "\n",
    "third_max = conOutDf['3rd Qrt'] - conOutDf['Max']\n",
    "third_median = conOutDf['3rd Qrt']-conOutDf['Median'] \n",
    "\n",
    "first_min = conOutDf['1st Qrt.'] - conOutDf['Min']\n",
    "first_median = conOutDf['1st Qrt.']-conOutDf['Median']   \n",
    "\n",
    "leg = range(len(third_max)) \n",
    "\n",
    "for j in leg:\n",
    "    if third_max[j] > third_median[j] or first_min[j] >first_median[j] :  #This basically checks  the difference between the variables\n",
    "        outliers.append(conOutDf.index[j])\n",
    "\n",
    "print('The features with outliers: ',outliers)"
   ]
  },
  {
   "cell_type": "markdown",
   "metadata": {},
   "source": [
    "### Processing the Categorical dataset"
   ]
  },
  {
   "cell_type": "code",
   "execution_count": null,
   "metadata": {},
   "outputs": [],
   "source": [
    "if catdf.empty == True:\n",
    "    print('The dataset does not contain any categorical features')\n",
    "else:\n",
    "    catfeat = list(catdf.columns)\n",
    "    catHead = ['Count', 'Miss %', 'Card.', 'Mode', 'Mode Freq', 'Mode %', '2nd Mode', '2nd Mode Freq', '2nd Mode %']\n",
    "    catOutDf = pd.DataFrame(index = catfeat,columns = catHead) #Creates the Data quality report dataframe\n",
    "    catOutDf.index.name = 'FeatureName'\n",
    "    \n",
    "    #Count\n",
    "    counting = catdf.count()\n",
    "    catOutDf[catHead[0]] = counting\n",
    "    #Missing Percent\n",
    "    percent = ['']*len(catfeat)\n",
    "    for k in catdf:\n",
    "        if catdf[k].isnull().values.any() == False:\n",
    "            percent[catfeat.index(k)] = 0.00\n",
    "        else:\n",
    "            nu = catdf[k].isnull().sum()\n",
    "            po = catdf[k].count()\n",
    "            per = nu/po *100\n",
    "            percent[catfeat.index(k)] = per\n",
    "    catOutDf[catHead[1]]= percent\n",
    "    #Cardinality\n",
    "    catOutDf[catHead[2]] = catdf.nunique()\n",
    "    #Mode\n",
    "    modethem = [''] *len(catfeat)\n",
    "    modethem2 = ['']*len(catfeat)\n",
    "    for shi in catdf:\n",
    "        mo = catdf[shi].mode()\n",
    "        values = catdf[shi].value_counts()\n",
    "        mod = list(mo)                    #This makes a list of the highest frequency \n",
    "        modem = mod[0]\n",
    "        modem2 = values.index[1]\n",
    "        modethem[catfeat.index(shi)] = modem\n",
    "        modethem2[catfeat.index(shi)] = modem2\n",
    "    catOutDf[catHead[3]] = modethem\n",
    "    catOutDf[catHead[6]] = modethem2\n",
    "    \n",
    "    #Mode Frequency \n",
    "    modefreq = ['']* len(catfeat)\n",
    "    modefreq2 = ['']*len(catfeat)\n",
    "    for j in catdf:\n",
    "        values = catdf[j].value_counts() #This gives a series of the frequency \n",
    "        index = catfeat.index(j)       #This gives the location of the feature\n",
    "        \n",
    "        modee = values.index[0]\n",
    "        modee2 = values.index[1]\n",
    "        modethemfreq = values.loc[modee]\n",
    "        modethemfreq2 = values.loc[modee2]\n",
    "        modefreq[index] = modethemfreq\n",
    "        modefreq2[index] = modethemfreq2\n",
    "    catOutDf[catHead[4]] = modefreq\n",
    "    catOutDf[catHead[7]] = modefreq2\n",
    "    #Mode %\n",
    "    mode_percentage = ['']*len(catfeat) #This creates an empty list\n",
    "    mode_percentage2 = ['']*len(catfeat)\n",
    "    for zen in catdf:\n",
    "        values = catdf[zen].value_counts()\n",
    "        index = catfeat.index(zen)\n",
    "        mode = values.index[0]\n",
    "        mode_percentage[index] = round((values[0]/counting[zen])*100,2)  #This gets the percentage and puts it in the empty list created\n",
    "        mode_percentage2[index] = round((values[1]/counting[zen])*100,2)\n",
    "    catOutDf[catHead[5]] = mode_percentage\n",
    "    catOutDf[catHead[8]] = mode_percentage2"
   ]
  },
  {
   "cell_type": "markdown",
   "metadata": {},
   "source": [
    "### Lastly outputting the results of the dataset into Continous and Categorical files \n"
   ]
  },
  {
   "cell_type": "code",
   "execution_count": null,
   "metadata": {},
   "outputs": [],
   "source": [
    "catOutDf.to_csv('Categorical_Data_Quality_Report.csv') #This would export to the directory set for the python environment\n",
    "\n",
    "conOutDf.to_csv('Continuous_Data_Quality_Report.csv')"
   ]
  }
 ],
 "metadata": {
  "kernelspec": {
   "display_name": "Python 3",
   "language": "python",
   "name": "python3"
  },
  "language_info": {
   "codemirror_mode": {
    "name": "ipython",
    "version": 3
   },
   "file_extension": ".py",
   "mimetype": "text/x-python",
   "name": "python",
   "nbconvert_exporter": "python",
   "pygments_lexer": "ipython3",
   "version": "3.8.3"
  }
 },
 "nbformat": 4,
 "nbformat_minor": 4
}
